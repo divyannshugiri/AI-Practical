{
  "cells": [
    {
      "cell_type": "code",
      "execution_count": 27,
      "metadata": {
        "colab": {
          "base_uri": "https://localhost:8080/"
        },
        "id": "Gfvt6XRlqV9R",
        "outputId": "4800011a-cb50-4878-992e-584e362a6700"
      },
      "outputs": [
        {
          "output_type": "stream",
          "name": "stderr",
          "text": [
            "[nltk_data] Downloading package punkt to /root/nltk_data...\n",
            "[nltk_data]   Package punkt is already up-to-date!\n"
          ]
        },
        {
          "output_type": "execute_result",
          "data": {
            "text/plain": [
              "True"
            ]
          },
          "metadata": {},
          "execution_count": 27
        }
      ],
      "source": [
        "import nltk\n",
        "\n",
        "nltk.download(\"punkt\")"
      ]
    },
    {
      "cell_type": "code",
      "execution_count": 28,
      "metadata": {
        "id": "jBmUPpHyqV9S"
      },
      "outputs": [],
      "source": [
        "from nltk import sent_tokenize , word_tokenize\n",
        "from nltk.corpus import stopwords"
      ]
    },
    {
      "cell_type": "code",
      "execution_count": 29,
      "metadata": {
        "id": "nc6L_QirqV9S"
      },
      "outputs": [],
      "source": [
        "#stopwords = stopwords.words(\"english\")"
      ]
    },
    {
      "cell_type": "code",
      "execution_count": 30,
      "metadata": {
        "colab": {
          "base_uri": "https://localhost:8080/"
        },
        "id": "iVvYm6fwqV9S",
        "outputId": "32e7a6d1-9b52-4351-da4f-38adf30508d4"
      },
      "outputs": [
        {
          "output_type": "stream",
          "name": "stdout",
          "text": [
            "['my', 'name', 'is', 'divyanshu', 'prakash', 'giri', ',', 'i', 'am', 'current', 'pursuing', 'infromation', 'technology', 'from', 'i2it', 'pune']\n"
          ]
        }
      ],
      "source": [
        "sent = \"My name is Divyanshu Prakash Giri , I am current pursuing infromation technology from I2IT Pune\".lower()\n",
        "words = word_tokenize(sent)\n",
        "print(words)"
      ]
    },
    {
      "cell_type": "code",
      "execution_count": 31,
      "metadata": {
        "colab": {
          "base_uri": "https://localhost:8080/"
        },
        "id": "3h_Zf0fOqV9S",
        "outputId": "65ef98ec-49fd-4358-ad59-924bd603fd9e"
      },
      "outputs": [
        {
          "output_type": "stream",
          "name": "stdout",
          "text": [
            "['my name is divyanshu prakash giri , i am current pursuing infromation technology from i2it pune']\n"
          ]
        }
      ],
      "source": [
        "sentence = sent_tokenize(sent)\n",
        "print(sentence)"
      ]
    },
    {
      "cell_type": "code",
      "execution_count": 32,
      "metadata": {
        "colab": {
          "base_uri": "https://localhost:8080/"
        },
        "id": "gpSCGl9CqV9T",
        "outputId": "c54f9e7c-25e7-4b33-ffe3-84af87620a91"
      },
      "outputs": [
        {
          "output_type": "stream",
          "name": "stdout",
          "text": [
            "<WordListCorpusReader in '.../corpora/stopwords' (not loaded yet)>\n"
          ]
        }
      ],
      "source": [
        "print(stopwords)"
      ]
    },
    {
      "cell_type": "code",
      "execution_count": 33,
      "metadata": {
        "colab": {
          "base_uri": "https://localhost:8080/",
          "height": 211
        },
        "id": "mFhuL-olqV9T",
        "outputId": "d6cfa075-4332-4df2-883f-806a6d80cb65"
      },
      "outputs": [
        {
          "output_type": "error",
          "ename": "TypeError",
          "evalue": "argument of type 'LazyCorpusLoader' is not iterable",
          "traceback": [
            "\u001b[0;31m---------------------------------------------------------------------------\u001b[0m",
            "\u001b[0;31mTypeError\u001b[0m                                 Traceback (most recent call last)",
            "\u001b[0;32m<ipython-input-33-1bca14114fd0>\u001b[0m in \u001b[0;36m<cell line: 1>\u001b[0;34m()\u001b[0m\n\u001b[1;32m      1\u001b[0m \u001b[0;32mfor\u001b[0m \u001b[0mword\u001b[0m \u001b[0;32min\u001b[0m \u001b[0mwords\u001b[0m\u001b[0;34m:\u001b[0m\u001b[0;34m\u001b[0m\u001b[0;34m\u001b[0m\u001b[0m\n\u001b[0;32m----> 2\u001b[0;31m     \u001b[0;32mif\u001b[0m \u001b[0mword\u001b[0m \u001b[0;32min\u001b[0m \u001b[0mstopwords\u001b[0m\u001b[0;34m:\u001b[0m\u001b[0;34m\u001b[0m\u001b[0;34m\u001b[0m\u001b[0m\n\u001b[0m\u001b[1;32m      3\u001b[0m         \u001b[0mwords\u001b[0m\u001b[0;34m.\u001b[0m\u001b[0mremove\u001b[0m\u001b[0;34m(\u001b[0m\u001b[0mword\u001b[0m\u001b[0;34m)\u001b[0m\u001b[0;34m\u001b[0m\u001b[0;34m\u001b[0m\u001b[0m\n\u001b[1;32m      4\u001b[0m \u001b[0;34m\u001b[0m\u001b[0m\n\u001b[1;32m      5\u001b[0m \u001b[0mprint\u001b[0m\u001b[0;34m(\u001b[0m\u001b[0mwords\u001b[0m\u001b[0;34m)\u001b[0m\u001b[0;34m\u001b[0m\u001b[0;34m\u001b[0m\u001b[0m\n",
            "\u001b[0;31mTypeError\u001b[0m: argument of type 'LazyCorpusLoader' is not iterable"
          ]
        }
      ],
      "source": [
        "for word in words:\n",
        "    if word in stopwords:\n",
        "        words.remove(word)\n",
        "\n",
        "print(words)"
      ]
    },
    {
      "cell_type": "code",
      "execution_count": 39,
      "metadata": {
        "colab": {
          "base_uri": "https://localhost:8080/"
        },
        "id": "wMkmJC1RqV9T",
        "outputId": "745026f2-18fa-4ad1-ba96-4cc2329666ab"
      },
      "outputs": [
        {
          "output_type": "stream",
          "name": "stdout",
          "text": [
            "['my', 'name', 'is', 'divyanshu', 'prakash', 'giri', ',', 'i', 'am', 'current', 'pursu', 'infrom', 'technolog', 'from', 'i2it', 'pune']\n"
          ]
        }
      ],
      "source": [
        "from nltk import PorterStemmer\n",
        "stemmer = PorterStemmer()\n",
        "stemmed_words = [stemmer.stem(word) for word in words]\n",
        "print(stemmed_words)"
      ]
    },
    {
      "cell_type": "code",
      "execution_count": 38,
      "metadata": {
        "colab": {
          "base_uri": "https://localhost:8080/"
        },
        "id": "8hnav1uwqV9T",
        "outputId": "350197c3-c4d7-4e95-95c6-fdd9d66e670c"
      },
      "outputs": [
        {
          "output_type": "stream",
          "name": "stderr",
          "text": [
            "[nltk_data] Downloading package averaged_perceptron_tagger to\n",
            "[nltk_data]     /root/nltk_data...\n",
            "[nltk_data]   Package averaged_perceptron_tagger is already up-to-\n",
            "[nltk_data]       date!\n"
          ]
        },
        {
          "output_type": "execute_result",
          "data": {
            "text/plain": [
              "True"
            ]
          },
          "metadata": {},
          "execution_count": 38
        }
      ],
      "source": [
        "from collections import Counter\n",
        "from nltk import pos_tag\n",
        "\n",
        "nltk.download(\"averaged_perceptron_tagger\")"
      ]
    },
    {
      "cell_type": "code",
      "execution_count": 37,
      "metadata": {
        "id": "trd-8MNSqV9T"
      },
      "outputs": [],
      "source": [
        "count_dict = {}\n",
        "\n",
        "for word in stemmed_words:\n",
        "    if word in count_dict:\n",
        "        count_dict[word] += 1\n",
        "    else:\n",
        "        count_dict[word] = 1"
      ]
    },
    {
      "cell_type": "code",
      "execution_count": 35,
      "metadata": {
        "colab": {
          "base_uri": "https://localhost:8080/"
        },
        "id": "SKKLf2rVqV9T",
        "outputId": "420578b4-7d4b-49b0-ac30-129a63f837ee"
      },
      "outputs": [
        {
          "output_type": "stream",
          "name": "stdout",
          "text": [
            "{'after': 1, 'you': 1, 'have': 1, 'elimin': 1, 'the': 2, 'imposs': 1, ',': 3, 'whatev': 1, 'that': 1, 'remain': 1, 'howev': 1, 'improb': 1, 'must': 1, 'be': 1, 'truth': 1, '.': 1}\n"
          ]
        }
      ],
      "source": [
        "print(count_dict)"
      ]
    },
    {
      "cell_type": "code",
      "execution_count": 34,
      "metadata": {
        "colab": {
          "base_uri": "https://localhost:8080/"
        },
        "id": "mCevWotUqV9T",
        "outputId": "5288e647-07bd-4c74-f4c3-d10ad73e680e"
      },
      "outputs": [
        {
          "output_type": "stream",
          "name": "stdout",
          "text": [
            "[('my', 'PRP$'), ('name', 'NN'), ('is', 'VBZ'), ('divyanshu', 'JJ'), ('prakash', 'NN'), ('giri', 'NN'), (',', ','), ('i', 'VBP'), ('am', 'VBP'), ('current', 'JJ'), ('pursu', 'NN'), ('infrom', 'NN'), ('technolog', 'NN'), ('from', 'IN'), ('i2it', 'NN'), ('pune', 'NN')]\n"
          ]
        }
      ],
      "source": [
        "pos_tagged = pos_tag(stemmed_words)\n",
        "print(pos_tagged)"
      ]
    },
    {
      "cell_type": "code",
      "execution_count": 36,
      "metadata": {
        "colab": {
          "base_uri": "https://localhost:8080/"
        },
        "id": "dqmcB2Y-qV9U",
        "outputId": "fc9e860b-f8e4-4ef4-9d71-a77fb5e5320d"
      },
      "outputs": [
        {
          "output_type": "stream",
          "name": "stdout",
          "text": [
            "Counter({'NN': 8, 'JJ': 2, 'VBP': 2, 'PRP$': 1, 'VBZ': 1, ',': 1, 'IN': 1})\n"
          ]
        }
      ],
      "source": [
        "count = Counter(tag for _ , tag in pos_tagged)\n",
        "print(count)"
      ]
    },
    {
      "cell_type": "code",
      "execution_count": null,
      "metadata": {
        "id": "1ARlRjVUqV9U"
      },
      "outputs": [],
      "source": []
    }
  ],
  "metadata": {
    "kernelspec": {
      "display_name": "Python 3",
      "language": "python",
      "name": "python3"
    },
    "language_info": {
      "codemirror_mode": {
        "name": "ipython",
        "version": 3
      },
      "file_extension": ".py",
      "mimetype": "text/x-python",
      "name": "python",
      "nbconvert_exporter": "python",
      "pygments_lexer": "ipython3",
      "version": "3.10.12"
    },
    "colab": {
      "provenance": []
    }
  },
  "nbformat": 4,
  "nbformat_minor": 0
}